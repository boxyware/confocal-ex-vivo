{
 "cells": [
  {
   "cell_type": "markdown",
   "metadata": {},
   "source": [
    "### Environment setting"
   ]
  },
  {
   "cell_type": "code",
   "execution_count": null,
   "metadata": {},
   "outputs": [],
   "source": [
    "!pip install -r requirements.txt"
   ]
  },
  {
   "cell_type": "code",
   "execution_count": 1,
   "metadata": {},
   "outputs": [],
   "source": [
    "IMAGE_SIZE = 300\n",
    "IMAGE_SHAPE = (IMAGE_SIZE, IMAGE_SIZE, 3)\n",
    "LABELS = ['No', 'Yes']\n",
    "MODEL_PATH = 'models/HE/resnet-{}.h5'.format(IMAGE_SIZE)\n",
    "#DATASET_PATH = 'data/2021_STUDY/HE/test'\n",
    "DATASET_PATH = 'data/2021_STUDY/HELDOUT'"
   ]
  },
  {
   "cell_type": "markdown",
   "metadata": {},
   "source": [
    "### Load model"
   ]
  },
  {
   "cell_type": "code",
   "execution_count": 2,
   "metadata": {},
   "outputs": [
    {
     "name": "stdout",
     "output_type": "stream",
     "text": [
      "Model: \"sequential\"\n",
      "_________________________________________________________________\n",
      "Layer (type)                 Output Shape              Param #   \n",
      "=================================================================\n",
      "resnet50 (Functional)        (None, 10, 10, 2048)      23587712  \n",
      "_________________________________________________________________\n",
      "global_average_pooling2d (Gl (None, 2048)              0         \n",
      "_________________________________________________________________\n",
      "dense (Dense)                (None, 128)               262272    \n",
      "_________________________________________________________________\n",
      "dropout (Dropout)            (None, 128)               0         \n",
      "_________________________________________________________________\n",
      "dense_1 (Dense)              (None, 16)                2064      \n",
      "_________________________________________________________________\n",
      "dropout_1 (Dropout)          (None, 16)                0         \n",
      "_________________________________________________________________\n",
      "dense_2 (Dense)              (None, 1)                 17        \n",
      "=================================================================\n",
      "Total params: 23,852,065\n",
      "Trainable params: 317,473\n",
      "Non-trainable params: 23,534,592\n",
      "_________________________________________________________________\n"
     ]
    }
   ],
   "source": [
    "from tensorflow.keras.models import load_model\n",
    "\n",
    "model = load_model(MODEL_PATH)\n",
    "model.summary()"
   ]
  },
  {
   "cell_type": "markdown",
   "metadata": {},
   "source": [
    "### Load the testing dataset"
   ]
  },
  {
   "cell_type": "code",
   "execution_count": 3,
   "metadata": {},
   "outputs": [
    {
     "name": "stdout",
     "output_type": "stream",
     "text": [
      "Found 97 images belonging to 2 classes.\n"
     ]
    }
   ],
   "source": [
    "from tensorflow.keras.preprocessing.image import ImageDataGenerator\n",
    "from tensorflow.keras.applications.resnet50 import preprocess_input\n",
    "\n",
    "def load_dataset(folder, labels, target_size=None):\n",
    "    datagen = ImageDataGenerator(\n",
    "        rescale=1./255,\n",
    "        preprocessing_function=preprocess_input\n",
    "    )\n",
    "    gen = datagen.flow_from_directory(\n",
    "        folder,\n",
    "        target_size=target_size,\n",
    "        batch_size=1,\n",
    "        class_mode='binary',\n",
    "        shuffle=False\n",
    "    )\n",
    "    Y = [int(gen.next()[1]) for _ in range(gen.n)]\n",
    "    return [labels[y] for y in Y]\n",
    "\n",
    "y_labeled = load_dataset(\n",
    "    DATASET_PATH,\n",
    "    LABELS,\n",
    "    target_size=(IMAGE_SIZE, IMAGE_SIZE)\n",
    ")"
   ]
  },
  {
   "cell_type": "markdown",
   "metadata": {},
   "source": [
    "### Evaluation"
   ]
  },
  {
   "cell_type": "code",
   "execution_count": 4,
   "metadata": {},
   "outputs": [
    {
     "name": "stdout",
     "output_type": "stream",
     "text": [
      "Found 97 images belonging to 2 classes.\n",
      "97/97 [==============================] - 7s 64ms/step\n"
     ]
    }
   ],
   "source": [
    "import numpy as np\n",
    "\n",
    "from tensorflow.keras.preprocessing.image import ImageDataGenerator\n",
    "from tensorflow.keras.applications.resnet50 import preprocess_input\n",
    "\n",
    "def predict(model, test_dir, input_shape,\n",
    "            classes=None,\n",
    "            batch_size=15):\n",
    "    \"\"\"\n",
    "    Predict the class of one or more images.\n",
    "    \n",
    "    Arguments:\n",
    "      model -- trained Keras model to use.\n",
    "      test_gen -- Python generator to retrieve the testing samples by batches.\n",
    "      input_shape -- tuple indicating the image shape (high, width, num_channels).\n",
    "      num_classes -- number of different classes in the dataset.\n",
    "      batch_size -- number of images to retrieve in each batch.\n",
    "      \n",
    "    Returns:\n",
    "      predictions -- Numpy array with the class with the higher probability.\n",
    "    \"\"\" \n",
    "    datagen = ImageDataGenerator(\n",
    "        rescale=1./255,\n",
    "        preprocessing_function=preprocess_input\n",
    "    )\n",
    "    gen = datagen.flow_from_directory(\n",
    "        test_dir,\n",
    "        target_size=(IMAGE_SIZE, IMAGE_SIZE),\n",
    "        batch_size=1,\n",
    "        class_mode=None,\n",
    "        shuffle=False\n",
    "    )\n",
    "    steps = gen.n // gen.batch_size\n",
    "    probabilities = model.predict(gen, steps=steps, verbose=1)\n",
    "    predictions = [np.round(x) for x in probabilities]\n",
    "    if classes is not None:\n",
    "        predictions = [classes[int(i)] for i in predictions]\n",
    "    return predictions\n",
    "\n",
    "predictions = predict(\n",
    "    model,\n",
    "    DATASET_PATH,\n",
    "    IMAGE_SHAPE,\n",
    "    classes=LABELS\n",
    ")"
   ]
  },
  {
   "cell_type": "code",
   "execution_count": 5,
   "metadata": {},
   "outputs": [],
   "source": [
    "from sklearn.metrics import confusion_matrix, classification_report\n",
    "\n",
    "def evaluate(y_true, y_pred, labels=None):\n",
    "    report = classification_report(\n",
    "        y_true,\n",
    "        y_pred, \n",
    "        target_names=labels\n",
    "    )\n",
    "    matrix = confusion_matrix(y_true, y_pred)\n",
    "    return report, matrix\n",
    "\n",
    "report, matrix = evaluate(\n",
    "    y_labeled,\n",
    "    predictions,\n",
    "    LABELS\n",
    ")"
   ]
  },
  {
   "cell_type": "code",
   "execution_count": 6,
   "metadata": {},
   "outputs": [
    {
     "name": "stdout",
     "output_type": "stream",
     "text": [
      "              precision    recall  f1-score   support\n",
      "\n",
      "          No       0.94      0.92      0.93        52\n",
      "         Yes       0.91      0.93      0.92        45\n",
      "\n",
      "    accuracy                           0.93        97\n",
      "   macro avg       0.93      0.93      0.93        97\n",
      "weighted avg       0.93      0.93      0.93        97\n",
      "\n"
     ]
    }
   ],
   "source": [
    "print(report)"
   ]
  },
  {
   "cell_type": "code",
   "execution_count": 7,
   "metadata": {},
   "outputs": [
    {
     "data": {
      "image/png": "[encoded data removed]",
      "text/plain": [
       "<Figure size 360x360 with 1 Axes>"
      ]
     },
     "metadata": {
      "needs_background": "light"
     },
     "output_type": "display_data"
    }
   ],
   "source": [
    "import matplotlib.pyplot as plt\n",
    "\n",
    "from mlxtend.plotting import plot_confusion_matrix\n",
    "\n",
    "fig, ax = plot_confusion_matrix(\n",
    "    conf_mat=matrix,\n",
    "    class_names=LABELS,\n",
    "    figsize=(5, 5)\n",
    ")\n",
    "plt.show()"
   ]
  },
  {
   "cell_type": "markdown",
   "metadata": {},
   "source": [
    "### Sensitivity and Specificity\n",
    "\n",
    "**Specificity** is just a special case of **recall** (or **sensitivity**). Recall is calculated for the actual positive class ( TP / [TP+FN] ), whereas **specificity** is the same type of calculation but for the actual negative class ( TN / [TN+FP] ).\n",
    "\n",
    "$precision = \\frac{TP}{TP + FP}$\n",
    "\n",
    "$recall = \\frac{TP}{TP + FN}$\n",
    "\n",
    "$F1 = 2 \\cdot \\frac{precision \\cdot recall}{precision + recall}$\n",
    "\n",
    "$accuracy = \\frac{TP + TN}{TP + TN + FP + FN}$\n",
    "\n",
    "$sensitivity = \\frac{TP}{TP + FN}$\n",
    "\n",
    "$specificity = \\frac{TN}{TN + FP}$"
   ]
  },
  {
   "cell_type": "code",
   "execution_count": 8,
   "metadata": {},
   "outputs": [
    {
     "name": "stdout",
     "output_type": "stream",
     "text": [
      "Sensitivity: 0.9333333333333333\n",
      "Specificity: 0.9230769230769231\n"
     ]
    }
   ],
   "source": [
    "sensitivity = matrix[1,1] / (matrix[1,1] + matrix[1,0])\n",
    "specificity = matrix[0,0] / (matrix[0,0] + matrix[0,1])\n",
    "\n",
    "print('Sensitivity:', sensitivity)\n",
    "print('Specificity:', specificity)"
   ]
  },
  {
   "cell_type": "markdown",
   "metadata": {},
   "source": [
    "### Area Under the Curve (AUC)"
   ]
  },
  {
   "cell_type": "code",
   "execution_count": 9,
   "metadata": {},
   "outputs": [],
   "source": [
    "from sklearn.metrics import roc_curve, auc\n",
    "\n",
    "fpr, tpr, threshold = roc_curve(\n",
    "    [ 0 if y == 'No' else 1 for y in y_labeled],\n",
    "    [ 0 if y == 'No' else 1 for y in predictions]\n",
    ")\n",
    "roc_auc = auc(fpr, tpr)"
   ]
  },
  {
   "cell_type": "code",
   "execution_count": 10,
   "metadata": {},
   "outputs": [
    {
     "data": {
      "image/png": "[encoded data removed]",
      "text/plain": [
       "<Figure size 432x288 with 1 Axes>"
      ]
     },
     "metadata": {
      "needs_background": "light"
     },
     "output_type": "display_data"
    }
   ],
   "source": [
    "import matplotlib.pyplot as plt\n",
    "\n",
    "plt.title('Receiver Operating Characteristic')\n",
    "plt.plot(fpr, tpr, 'b', label = 'AUC = %0.2f' % roc_auc)\n",
    "plt.legend(loc = 'lower right')\n",
    "plt.plot([0, 1], [0, 1],'r--')\n",
    "plt.xlim([0, 1])\n",
    "plt.ylim([0, 1])\n",
    "#plt.ylabel('True Positive Rate')\n",
    "#plt.xlabel('False Positive Rate')\n",
    "plt.ylabel('Sensitivity')\n",
    "plt.xlabel('Specificity')\n",
    "plt.show()"
   ]
  },
  {
   "cell_type": "markdown",
   "metadata": {},
   "source": [
    "---"
   ]
  }
 ],
 "metadata": {
  "kernelspec": {
   "display_name": "Python 3",
   "language": "python",
   "name": "python3"
  },
  "language_info": {
   "codemirror_mode": {
    "name": "ipython",
    "version": 3
   },
   "file_extension": ".py",
   "mimetype": "text/x-python",
   "name": "python",
   "nbconvert_exporter": "python",
   "pygments_lexer": "ipython3",
   "version": "3.8.6"
  }
 },
 "nbformat": 4,
 "nbformat_minor": 4
}
