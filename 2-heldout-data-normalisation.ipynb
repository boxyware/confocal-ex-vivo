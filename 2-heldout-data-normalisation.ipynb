{
 "cells": [
  {
   "cell_type": "code",
   "execution_count": null,
   "metadata": {},
   "outputs": [],
   "source": [
    "!pip install -r requirements.txt"
   ]
  },
  {
   "cell_type": "code",
   "execution_count": 1,
   "metadata": {},
   "outputs": [],
   "source": [
    "PROJECT = 'ex-vivo-confocal'\n",
    "BUCKET = 'ex-vivo-confocal'\n",
    "REGION = 'europe-west1'\n",
    "\n",
    "# os.environ omits the gs: protocol\n",
    "YES_FOLDER = 'gs://{}/datalake/STUDY_2021/HELDOUT/YES'.format(BUCKET)\n",
    "NO_FOLDER = 'gs://{}/datalake/STUDY_2021/HELDOUT/NO'.format(BUCKET)\n",
    "PROCESSED_FOLDER = 'gs://{}/processed/STUDY_2021/HELDOUT'.format(BUCKET)\n",
    "LOCAL_STAGING_FOLDER = 'staging/heldout'"
   ]
  },
  {
   "cell_type": "code",
   "execution_count": 2,
   "metadata": {},
   "outputs": [],
   "source": [
    "import os\n",
    "\n",
    "os.environ['PROJECT'] = PROJECT\n",
    "os.environ['BUCKET'] = BUCKET\n",
    "os.environ['REGION'] = REGION\n",
    "\n",
    "os.environ['YES_FOLDER'] = YES_FOLDER\n",
    "os.environ['NO_FOLDER'] = NO_FOLDER\n",
    "\n",
    "os.environ['GOOGLE_APPLICATION_CREDENTIALS'] = 'credentials/key.json'"
   ]
  },
  {
   "cell_type": "code",
   "execution_count": 3,
   "metadata": {},
   "outputs": [
    {
     "name": "stdout",
     "output_type": "stream",
     "text": [
      "Activated service account credentials for: [ml-service@ex-vivo-confocal.iam.gserviceaccount.com]\n"
     ]
    }
   ],
   "source": [
    "!gcloud auth activate-service-account \\\n",
    "    ml-service@ex-vivo-confocal.iam.gserviceaccount.com \\\n",
    "    --key-file=${GOOGLE_APPLICATION_CREDENTIALS} \\\n",
    "    --project=${PROJECT}"
   ]
  },
  {
   "cell_type": "markdown",
   "metadata": {},
   "source": [
    "---"
   ]
  },
  {
   "cell_type": "code",
   "execution_count": 4,
   "metadata": {},
   "outputs": [],
   "source": [
    "def save_dataset(df, path, header=True):\n",
    "    df_dir = os.path.dirname(path)\n",
    "    df_file = os.path.basename(path)\n",
    "    if os.path.exists(path):\n",
    "        os.remove(path) \n",
    "    if df_dir and not os.path.isdir(df_dir):\n",
    "        os.makedirs(df_dir, exist_ok=True)\n",
    "    df.to_csv(path, index=False, header=header)\n",
    "    print(\"Dataframe saved into\", path)"
   ]
  },
  {
   "cell_type": "code",
   "execution_count": 5,
   "metadata": {},
   "outputs": [],
   "source": [
    "import pandas as pd\n",
    "\n",
    "def createDataFrame(yes_paths, no_paths):\n",
    "    \"\"\"\n",
    "    A label equals to 1 means 'yes' it's cancer.\n",
    "    A label equals to 0 means 'no' it's cancer.\n",
    "    \"\"\"\n",
    "    yes_df = pd.DataFrame(yes_paths, columns = ['image'])\n",
    "    no_df = pd.DataFrame(no_paths, columns = ['image'])\n",
    "    yes_df['label'] = 'yes'\n",
    "    no_df['label'] = 'no'\n",
    "    return pd.concat([yes_df, no_df], ignore_index=True)"
   ]
  },
  {
   "cell_type": "markdown",
   "metadata": {},
   "source": [
    "---"
   ]
  },
  {
   "cell_type": "markdown",
   "metadata": {},
   "source": [
    "## Preparing the dataset"
   ]
  },
  {
   "cell_type": "markdown",
   "metadata": {},
   "source": [
    "As the original names contain spaces and other special characters, we're going to rename them."
   ]
  },
  {
   "cell_type": "code",
   "execution_count": null,
   "metadata": {},
   "outputs": [],
   "source": [
    "%%bash\n",
    "\n",
    "gsutil ls gs://ex-vivo-confocal/datalake/STUDY_2021/HELDOUT/**/*.* | \\\n",
    "  while read f; do\n",
    "    gsutil -m mv \"$f\" \"${f// /_}\";\n",
    "  done;"
   ]
  },
  {
   "cell_type": "code",
   "execution_count": 22,
   "metadata": {},
   "outputs": [],
   "source": [
    "# DecompressionBombError: Image size (204871680 pixels) exceeds limit of 178956970 pixels, could be decompression bomb DOS attack. [while running 'Synthesise samples']\n",
    "\n",
    "yes_paths = !gsutil ls -l ${YES_FOLDER}/**/*.* | awk '{if ($1 < 157286400) print $NF}'\n",
    "no_paths = !gsutil ls -l ${NO_FOLDER}/**/*.* | awk '{if ($1 < 157286400) print $NF}'"
   ]
  },
  {
   "cell_type": "code",
   "execution_count": 23,
   "metadata": {},
   "outputs": [
    {
     "data": {
      "text/html": [
       "<div>\n",
       "<style scoped>\n",
       "    .dataframe tbody tr th:only-of-type {\n",
       "        vertical-align: middle;\n",
       "    }\n",
       "\n",
       "    .dataframe tbody tr th {\n",
       "        vertical-align: top;\n",
       "    }\n",
       "\n",
       "    .dataframe thead th {\n",
       "        text-align: right;\n",
       "    }\n",
       "</style>\n",
       "<table border=\"1\" class=\"dataframe\">\n",
       "  <thead>\n",
       "    <tr style=\"text-align: right;\">\n",
       "      <th></th>\n",
       "      <th>image</th>\n",
       "      <th>label</th>\n",
       "    </tr>\n",
       "  </thead>\n",
       "  <tbody>\n",
       "    <tr>\n",
       "      <th>8</th>\n",
       "      <td>gs://ex-vivo-confocal/datalake/STUDY_2021/HELD...</td>\n",
       "      <td>yes</td>\n",
       "    </tr>\n",
       "    <tr>\n",
       "      <th>11</th>\n",
       "      <td>gs://ex-vivo-confocal/datalake/STUDY_2021/HELD...</td>\n",
       "      <td>yes</td>\n",
       "    </tr>\n",
       "    <tr>\n",
       "      <th>45</th>\n",
       "      <td>gs://ex-vivo-confocal/datalake/STUDY_2021/HELD...</td>\n",
       "      <td>no</td>\n",
       "    </tr>\n",
       "    <tr>\n",
       "      <th>53</th>\n",
       "      <td>gs://ex-vivo-confocal/datalake/STUDY_2021/HELD...</td>\n",
       "      <td>no</td>\n",
       "    </tr>\n",
       "    <tr>\n",
       "      <th>3</th>\n",
       "      <td>gs://ex-vivo-confocal/datalake/STUDY_2021/HELD...</td>\n",
       "      <td>yes</td>\n",
       "    </tr>\n",
       "  </tbody>\n",
       "</table>\n",
       "</div>"
      ],
      "text/plain": [
       "                                                image label\n",
       "8   gs://ex-vivo-confocal/datalake/STUDY_2021/HELD...   yes\n",
       "11  gs://ex-vivo-confocal/datalake/STUDY_2021/HELD...   yes\n",
       "45  gs://ex-vivo-confocal/datalake/STUDY_2021/HELD...    no\n",
       "53  gs://ex-vivo-confocal/datalake/STUDY_2021/HELD...    no\n",
       "3   gs://ex-vivo-confocal/datalake/STUDY_2021/HELD...   yes"
      ]
     },
     "execution_count": 23,
     "metadata": {},
     "output_type": "execute_result"
    }
   ],
   "source": [
    "df = createDataFrame(yes_paths, no_paths)\n",
    "df.sample(5)"
   ]
  },
  {
   "cell_type": "code",
   "execution_count": 25,
   "metadata": {},
   "outputs": [
    {
     "name": "stdout",
     "output_type": "stream",
     "text": [
      "Number of positive cases: 45\n",
      "Number of negative cases: 52\n"
     ]
    }
   ],
   "source": [
    "NUM_SAMPLES_YES = len(yes_paths)\n",
    "NUM_SAMPLES_NO = len(no_paths)\n",
    "\n",
    "print('Number of positive cases:', NUM_SAMPLES_YES)\n",
    "print('Number of negative cases:', NUM_SAMPLES_NO)"
   ]
  },
  {
   "cell_type": "code",
   "execution_count": 26,
   "metadata": {},
   "outputs": [
    {
     "name": "stdout",
     "output_type": "stream",
     "text": [
      "Dataframe saved into staging/heldout/heldout.csv\n"
     ]
    }
   ],
   "source": [
    "path = '{}/heldout.csv'.format(LOCAL_STAGING_FOLDER)\n",
    "# reorganise the columns to fit with the method signature\n",
    "save_dataset(df[['label', 'image']], path, header=False)"
   ]
  },
  {
   "cell_type": "markdown",
   "metadata": {},
   "source": [
    "---"
   ]
  },
  {
   "cell_type": "code",
   "execution_count": 27,
   "metadata": {},
   "outputs": [],
   "source": [
    "import gcsfs\n",
    "import numpy as np\n",
    "import matplotlib.pyplot as plt\n",
    "\n",
    "from PIL import Image\n",
    "\n",
    "def load_image(path):\n",
    "    \"\"\"\n",
    "    Loads an image from both, local filesystem or Google Storage, as Numpy array.\n",
    "    \n",
    "    Arguments:\n",
    "      path -- path to image dataset folder.\n",
    "        \n",
    "    Returns:\n",
    "      img -- a Numpy array with shape (hight, width, num_channels). In the RGB case\n",
    "             num_channels is equal to 3.\n",
    "    \"\"\"\n",
    "    if path.startswith('gs://'):\n",
    "        fs = gcsfs.GCSFileSystem(project=BUCKET)\n",
    "        img = Image.open(fs.open(path, 'rb'))\n",
    "    else:\n",
    "        img = Image.open(path)\n",
    "    return np.asarray(img)"
   ]
  },
  {
   "cell_type": "markdown",
   "metadata": {},
   "source": [
    "The images need to be resize to have all of them the same dimensions"
   ]
  },
  {
   "cell_type": "code",
   "execution_count": 29,
   "metadata": {},
   "outputs": [],
   "source": [
    "IMAGE_SIZE = 300"
   ]
  },
  {
   "cell_type": "code",
   "execution_count": 30,
   "metadata": {},
   "outputs": [],
   "source": [
    "import apache_beam as beam\n",
    "\n",
    "def resize_samples(input_data, output_folder,\n",
    "                       save_format='jpeg',\n",
    "                       target_size=(256, 256),\n",
    "                       job_mame='resize_samples',\n",
    "                       runner='DirectRunner'):\n",
    "    \"\"\"\n",
    "    Create an Apache Beam pipeline to create synthetic copies of pitcture appliying some transformations.\n",
    "    \n",
    "    Arguments:\n",
    "    runner -- two possible values are accepted:\n",
    "        DirectRunner -- executes the pipeline in the same machine that is running this method. Defaul.\n",
    "        DataflowRunner -- executes the pipeline on GCP (Google Cloud Platform) using the Dataflow service.\n",
    "    input_data -- path to a CSV file with the following structure:\n",
    "        label,path_to_image_file,path_to_copy_file\n",
    "    output -- path to the output folder\n",
    "    \"\"\"\n",
    "    # Dataflow needs the imports here\n",
    "    import os, datetime, random, string\n",
    "    import numpy as np\n",
    "    \n",
    "    from PIL import Image\n",
    "    from io import BytesIO\n",
    "    from apache_beam.io.gcp import gcsio\n",
    "    #from skimage.transform import resize\n",
    "    from keras.preprocessing.image import ImageDataGenerator\n",
    "    \n",
    "    def load_img(path):\n",
    "        if path.startswith('gs://'):\n",
    "            #print(path)\n",
    "            img = Image.open(gcsio.GcsIO().open(path))\n",
    "        else:\n",
    "            img = Image.open(path)\n",
    "        return img\n",
    "        \n",
    "    def resize(element):\n",
    "        label, path = element\n",
    "        img = load_img(path)\n",
    "        img = img.resize(target_size, Image.NEAREST)\n",
    "        img = np.asarray(img)\n",
    "        save_to_dir = os.path.join(\n",
    "                output_folder, label.upper().replace(' ', '_'))\n",
    "        return (save_to_dir, img)\n",
    "            \n",
    "    class WriteImage(beam.DoFn):\n",
    "        def __init__(self, filesystems):\n",
    "            self.filesystems = filesystems\n",
    "            \n",
    "        def process(self, image_tuple):\n",
    "            directory, img = image_tuple\n",
    "            filename = ''.join(random.choices(string.ascii_letters + string.digits, k=16))\n",
    "            filename = '{}.{}'.format(filename, save_format)\n",
    "            path = os.path.join(directory, filename)\n",
    "            file = BytesIO()\n",
    "            if save_format == 'jpeg':\n",
    "                img = Image.fromarray((img * 255).astype(np.uint8)).convert('RGB')\n",
    "            else:\n",
    "                img = Image.fromarray((img * 255).astype(np.uint8))\n",
    "            img.save(file, format=save_format)\n",
    "            if not os.path.isdir(directory):\n",
    "                self.filesystems.FileSystems.mkdirs(directory)\n",
    "            writer = self.filesystems.FileSystems.create(path)\n",
    "            writer.write(file.getvalue())\n",
    "            writer.close()\n",
    "            \n",
    "    timestamp = datetime.datetime.now().strftime(\"%y%m%d-%H%M%S\")\n",
    "\n",
    "    #dictionary of pipeline options\n",
    "    opts = {\n",
    "        # \"staging_location\": PROCESSED_FOLDER,\n",
    "        \"temp_location\": \"gs://{}/temp\".format(BUCKET),\n",
    "        \"job_name\": \"{}-{}\".format(job_mame, timestamp),\n",
    "        \"project\": PROJECT,\n",
    "        \"region\": REGION,\n",
    "        \"max_num_workers\": 8,\n",
    "        \"runner\": runner\n",
    "    }\n",
    "\n",
    "    #instantiate PipelineOptions object using options dictionary\n",
    "    options = beam.pipeline.PipelineOptions(flags = [], **opts)\n",
    "    p = beam.Pipeline(options=options)\n",
    "    \n",
    "    (p | 'Read dataset'   >> beam.io.ReadFromText(input_data)\n",
    "       | 'Split data'     >> beam.Map(lambda x: x.split(','))\n",
    "       | 'Resize samples' >> beam.Map(resize)\n",
    "       | 'Save Image'     >> beam.ParDo(WriteImage(beam.io.filesystems))\n",
    "    )\n",
    "    \n",
    "    p.run()"
   ]
  },
  {
   "cell_type": "code",
   "execution_count": null,
   "metadata": {},
   "outputs": [],
   "source": [
    "resize_samples(\n",
    "    '{}/heldout.csv'.format(LOCAL_STAGING_FOLDER),\n",
    "    PROCESSED_FOLDER,\n",
    "    save_format='jpeg',\n",
    "    target_size=(IMAGE_SIZE, IMAGE_SIZE)\n",
    ")"
   ]
  },
  {
   "cell_type": "code",
   "execution_count": null,
   "metadata": {},
   "outputs": [],
   "source": [
    "!gsutil -m cp -r gs://ex-vivo-confocal/processed/STUDY_2021/HELDOUT data/2021_STUDY"
   ]
  },
  {
   "cell_type": "markdown",
   "metadata": {},
   "source": [
    "---"
   ]
  }
 ],
 "metadata": {
  "kernelspec": {
   "display_name": "Python 3",
   "language": "python",
   "name": "python3"
  },
  "language_info": {
   "codemirror_mode": {
    "name": "ipython",
    "version": 3
   },
   "file_extension": ".py",
   "mimetype": "text/x-python",
   "name": "python",
   "nbconvert_exporter": "python",
   "pygments_lexer": "ipython3",
   "version": "3.8.6"
  }
 },
 "nbformat": 4,
 "nbformat_minor": 4
}
