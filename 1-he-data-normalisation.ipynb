{
 "cells": [
  {
   "cell_type": "code",
   "execution_count": null,
   "metadata": {},
   "outputs": [],
   "source": [
    "!pip install -r requirements.txt"
   ]
  },
  {
   "cell_type": "code",
   "execution_count": 1,
   "metadata": {},
   "outputs": [],
   "source": [
    "PROJECT = 'ex-vivo-confocal'\n",
    "BUCKET = 'ex-vivo-confocal'\n",
    "REGION = 'europe-west1'\n",
    "\n",
    "YES_FOLDER = 'gs://{}/datalake/STUDY_2021/HE/YES'.format(BUCKET)\n",
    "NO_FOLDER = 'gs://{}/datalake/STUDY_2021/HE/NO'.format(BUCKET)\n",
    "STAGING_FOLDER = 'gs://{}/staging/STUDY_2021/HE'.format(BUCKET)\n",
    "LOCAL_STAGING_FOLDER = 'staging/he'"
   ]
  },
  {
   "cell_type": "code",
   "execution_count": 2,
   "metadata": {},
   "outputs": [],
   "source": [
    "import os\n",
    "\n",
    "os.environ['PROJECT'] = PROJECT\n",
    "os.environ['BUCKET'] = BUCKET\n",
    "os.environ['REGION'] = REGION\n",
    "\n",
    "os.environ['YES_FOLDER'] = YES_FOLDER\n",
    "os.environ['NO_FOLDER'] = NO_FOLDER\n",
    "\n",
    "os.environ['GOOGLE_APPLICATION_CREDENTIALS'] = 'credentials/key.json'"
   ]
  },
  {
   "cell_type": "code",
   "execution_count": 3,
   "metadata": {},
   "outputs": [
    {
     "name": "stdout",
     "output_type": "stream",
     "text": [
      "Activated service account credentials for: [ml-service@ex-vivo-confocal.iam.gserviceaccount.com]\n"
     ]
    }
   ],
   "source": [
    "!gcloud auth activate-service-account \\\n",
    "    ml-service@ex-vivo-confocal.iam.gserviceaccount.com \\\n",
    "    --key-file=${GOOGLE_APPLICATION_CREDENTIALS} \\\n",
    "    --project=${PROJECT}"
   ]
  },
  {
   "cell_type": "markdown",
   "metadata": {},
   "source": [
    "---"
   ]
  },
  {
   "cell_type": "code",
   "execution_count": 4,
   "metadata": {},
   "outputs": [],
   "source": [
    "def save_dataset(df, path, header=True):\n",
    "    df_dir = os.path.dirname(path)\n",
    "    df_file = os.path.basename(path)\n",
    "    if os.path.exists(path):\n",
    "        os.remove(path)\n",
    "    if df_dir and not os.path.isdir(df_dir):\n",
    "        os.makedirs(df_dir, exist_ok=True)\n",
    "    df.to_csv(path, index=False, header=header)\n",
    "    print(\"Dataframe saved into\", path)"
   ]
  },
  {
   "cell_type": "code",
   "execution_count": 5,
   "metadata": {},
   "outputs": [],
   "source": [
    "import pandas as pd\n",
    "\n",
    "def createDataFrame(yes_paths, no_paths):\n",
    "    \"\"\"\n",
    "    A label equals to 1 means 'yes' it's cancer.\n",
    "    A label equals to 0 means 'no' it's cancer.\n",
    "    \"\"\"\n",
    "    yes_df = pd.DataFrame(yes_paths, columns = ['image'])\n",
    "    no_df = pd.DataFrame(no_paths, columns = ['image'])\n",
    "    yes_df['label'] = 'yes'\n",
    "    no_df['label'] = 'no'\n",
    "    return pd.concat([yes_df, no_df], ignore_index=True)"
   ]
  },
  {
   "cell_type": "markdown",
   "metadata": {},
   "source": [
    "---"
   ]
  },
  {
   "cell_type": "markdown",
   "metadata": {},
   "source": [
    "## Preparing the dataset"
   ]
  },
  {
   "cell_type": "markdown",
   "metadata": {},
   "source": [
    "As the original names contain spaces and other special characters, we're going to rename them."
   ]
  },
  {
   "cell_type": "code",
   "execution_count": null,
   "metadata": {},
   "outputs": [],
   "source": [
    "%%bash\n",
    "\n",
    "gsutil ls gs://ex-vivo-confocal/datalake/STUDY_2021/HE/**/*.* | \\\n",
    "  while read f; do\n",
    "    gsutil -m mv \"$f\" \"${f// /_}\";\n",
    "  done;"
   ]
  },
  {
   "cell_type": "code",
   "execution_count": 6,
   "metadata": {},
   "outputs": [],
   "source": [
    "# DecompressionBombError: Image size (204871680 pixels) exceeds limit of 178956970 pixels, could be decompression bomb DOS attack. [while running 'Synthesise samples']\n",
    "\n",
    "yes_paths = !gsutil ls -l ${YES_FOLDER}/*.* | awk '{if ($1 < 157286400) print $NF}'\n",
    "no_paths = !gsutil ls -l ${NO_FOLDER}/*.* | awk '{if ($1 < 157286400) print $NF}'"
   ]
  },
  {
   "cell_type": "code",
   "execution_count": 7,
   "metadata": {},
   "outputs": [
    {
     "data": {
      "text/html": [
       "<div>\n",
       "<style scoped>\n",
       "    .dataframe tbody tr th:only-of-type {\n",
       "        vertical-align: middle;\n",
       "    }\n",
       "\n",
       "    .dataframe tbody tr th {\n",
       "        vertical-align: top;\n",
       "    }\n",
       "\n",
       "    .dataframe thead th {\n",
       "        text-align: right;\n",
       "    }\n",
       "</style>\n",
       "<table border=\"1\" class=\"dataframe\">\n",
       "  <thead>\n",
       "    <tr style=\"text-align: right;\">\n",
       "      <th></th>\n",
       "      <th>image</th>\n",
       "      <th>label</th>\n",
       "    </tr>\n",
       "  </thead>\n",
       "  <tbody>\n",
       "    <tr>\n",
       "      <th>225</th>\n",
       "      <td>gs://ex-vivo-confocal/datalake/STUDY_2021/HE/N...</td>\n",
       "      <td>no</td>\n",
       "    </tr>\n",
       "    <tr>\n",
       "      <th>458</th>\n",
       "      <td>gs://ex-vivo-confocal/datalake/STUDY_2021/HE/N...</td>\n",
       "      <td>no</td>\n",
       "    </tr>\n",
       "    <tr>\n",
       "      <th>142</th>\n",
       "      <td>gs://ex-vivo-confocal/datalake/STUDY_2021/HE/Y...</td>\n",
       "      <td>yes</td>\n",
       "    </tr>\n",
       "    <tr>\n",
       "      <th>263</th>\n",
       "      <td>gs://ex-vivo-confocal/datalake/STUDY_2021/HE/N...</td>\n",
       "      <td>no</td>\n",
       "    </tr>\n",
       "    <tr>\n",
       "      <th>449</th>\n",
       "      <td>gs://ex-vivo-confocal/datalake/STUDY_2021/HE/N...</td>\n",
       "      <td>no</td>\n",
       "    </tr>\n",
       "  </tbody>\n",
       "</table>\n",
       "</div>"
      ],
      "text/plain": [
       "                                                 image label\n",
       "225  gs://ex-vivo-confocal/datalake/STUDY_2021/HE/N...    no\n",
       "458  gs://ex-vivo-confocal/datalake/STUDY_2021/HE/N...    no\n",
       "142  gs://ex-vivo-confocal/datalake/STUDY_2021/HE/Y...   yes\n",
       "263  gs://ex-vivo-confocal/datalake/STUDY_2021/HE/N...    no\n",
       "449  gs://ex-vivo-confocal/datalake/STUDY_2021/HE/N...    no"
      ]
     },
     "execution_count": 7,
     "metadata": {},
     "output_type": "execute_result"
    }
   ],
   "source": [
    "df = createDataFrame(yes_paths, no_paths)\n",
    "df.sample(5)"
   ]
  },
  {
   "cell_type": "code",
   "execution_count": 8,
   "metadata": {},
   "outputs": [
    {
     "data": {
      "text/plain": [
       "['gs://ex-vivo-confocal/datalake/STUDY_2021/HE/YES/2x.tif',\n",
       " 'gs://ex-vivo-confocal/datalake/STUDY_2021/HE/YES/2x2.tif',\n",
       " 'gs://ex-vivo-confocal/datalake/STUDY_2021/HE/YES/4x.tif',\n",
       " 'gs://ex-vivo-confocal/datalake/STUDY_2021/HE/YES/4x1.tif',\n",
       " 'gs://ex-vivo-confocal/datalake/STUDY_2021/HE/YES/4x2.tif']"
      ]
     },
     "execution_count": 8,
     "metadata": {},
     "output_type": "execute_result"
    }
   ],
   "source": [
    "yes_paths[:5]"
   ]
  },
  {
   "cell_type": "code",
   "execution_count": 9,
   "metadata": {},
   "outputs": [
    {
     "name": "stdout",
     "output_type": "stream",
     "text": [
      "Number of positive cases: 170\n",
      "Number of negative cases: 346\n"
     ]
    }
   ],
   "source": [
    "NUM_SAMPLES_YES = len(yes_paths)\n",
    "NUM_SAMPLES_NO = len(no_paths)\n",
    "\n",
    "print('Number of positive cases:', NUM_SAMPLES_YES)\n",
    "print('Number of negative cases:', NUM_SAMPLES_NO)"
   ]
  },
  {
   "cell_type": "code",
   "execution_count": 10,
   "metadata": {},
   "outputs": [
    {
     "name": "stdout",
     "output_type": "stream",
     "text": [
      "Dataframe saved into staging/he/images.csv\n"
     ]
    }
   ],
   "source": [
    "path = '{}/images.csv'.format(LOCAL_STAGING_FOLDER)\n",
    "# reorganise the columns to fit with the method signature\n",
    "save_dataset(df[['label', 'image']], path, header=False)"
   ]
  },
  {
   "cell_type": "markdown",
   "metadata": {},
   "source": [
    "---"
   ]
  },
  {
   "cell_type": "code",
   "execution_count": 11,
   "metadata": {},
   "outputs": [],
   "source": [
    "import gcsfs\n",
    "import numpy as np\n",
    "import matplotlib.pyplot as plt\n",
    "\n",
    "from PIL import Image\n",
    "\n",
    "def load_image(path):\n",
    "    \"\"\"\n",
    "    Loads an image from both, local filesystem or Google Storage, as Numpy array.\n",
    "    \n",
    "    Arguments:\n",
    "      path -- path to image dataset folder.\n",
    "        \n",
    "    Returns:\n",
    "      img -- a Numpy array with shape (hight, width, num_channels). In the RGB case\n",
    "             num_channels is equal to 3.\n",
    "    \"\"\"\n",
    "    if path.startswith('gs://'):\n",
    "        fs = gcsfs.GCSFileSystem(project=BUCKET)\n",
    "        img = Image.open(fs.open(path, 'rb'))\n",
    "    else:\n",
    "        img = Image.open(path)\n",
    "    return np.asarray(img)"
   ]
  },
  {
   "cell_type": "code",
   "execution_count": 12,
   "metadata": {},
   "outputs": [
    {
     "name": "stdout",
     "output_type": "stream",
     "text": [
      "gs://ex-vivo-confocal/datalake/STUDY_2021/HE/YES/2x2.tif\n"
     ]
    },
    {
     "data": {
      "image/png": "[encoded data removed]",
      "text/plain": [
       "<Figure size 432x288 with 1 Axes>"
      ]
     },
     "metadata": {
      "needs_background": "light"
     },
     "output_type": "display_data"
    }
   ],
   "source": [
    "path = df['image'].iloc[1]\n",
    "img = load_image(path)\n",
    "\n",
    "print(path)\n",
    "plt.imshow(img)\n",
    "plt.show()"
   ]
  },
  {
   "cell_type": "markdown",
   "metadata": {},
   "source": [
    "The images need to be resize to have all of them the same dimensions"
   ]
  },
  {
   "cell_type": "code",
   "execution_count": 13,
   "metadata": {},
   "outputs": [],
   "source": [
    "IMAGE_SIZE = 300"
   ]
  },
  {
   "cell_type": "code",
   "execution_count": 14,
   "metadata": {},
   "outputs": [],
   "source": [
    "import apache_beam as beam\n",
    "\n",
    "def resize_samples(input_data, output_folder,\n",
    "                       save_format='jpeg',\n",
    "                       target_size=(256, 256),\n",
    "                       job_mame='resize_samples',\n",
    "                       runner='DirectRunner'):\n",
    "    \"\"\"\n",
    "    Create an Apache Beam pipeline to create synthetic copies of pitcture appliying some transformations.\n",
    "    \n",
    "    Arguments:\n",
    "    runner -- two possible values are accepted:\n",
    "        DirectRunner -- executes the pipeline in the same machine that is running this method. Defaul.\n",
    "        DataflowRunner -- executes the pipeline on GCP (Google Cloud Platform) using the Dataflow service.\n",
    "    input_data -- path to a CSV file with the following structure:\n",
    "        label,path_to_image_file,path_to_copy_file\n",
    "    output -- path to the output folder\n",
    "    \"\"\"\n",
    "    # Dataflow needs the imports here\n",
    "    import os, datetime, random, string\n",
    "    import numpy as np\n",
    "    \n",
    "    from PIL import Image\n",
    "    from io import BytesIO\n",
    "    from apache_beam.io.gcp import gcsio\n",
    "    #from skimage.transform import resize\n",
    "    from keras.preprocessing.image import ImageDataGenerator\n",
    "    \n",
    "    def load_img(path):\n",
    "        if path.startswith('gs://'):\n",
    "            #print(path)\n",
    "            img = Image.open(gcsio.GcsIO().open(path))\n",
    "        else:\n",
    "            img = Image.open(path)\n",
    "        return img\n",
    "        \n",
    "    def resize(element):\n",
    "        label, path = element\n",
    "        img = load_img(path)\n",
    "        img = img.resize(target_size, Image.NEAREST)\n",
    "        img = np.asarray(img)\n",
    "        save_to_dir = os.path.join(\n",
    "                output_folder, label.upper().replace(' ', '_'))\n",
    "        return (save_to_dir, img)\n",
    "            \n",
    "    class WriteImage(beam.DoFn):\n",
    "        def __init__(self, filesystems):\n",
    "            self.filesystems = filesystems\n",
    "            \n",
    "        def process(self, image_tuple):\n",
    "            directory, img = image_tuple\n",
    "            filename = ''.join(random.choices(string.ascii_letters + string.digits, k=16))\n",
    "            filename = '{}.{}'.format(filename, save_format)\n",
    "            path = os.path.join(directory, filename)\n",
    "            file = BytesIO()\n",
    "            if save_format == 'jpeg':\n",
    "                img = Image.fromarray((img * 255).astype(np.uint8)).convert('RGB')\n",
    "            else:\n",
    "                img = Image.fromarray((img * 255).astype(np.uint8))\n",
    "            img.save(file, format=save_format)\n",
    "            if not os.path.isdir(directory):\n",
    "                self.filesystems.FileSystems.mkdirs(directory)\n",
    "            writer = self.filesystems.FileSystems.create(path)\n",
    "            writer.write(file.getvalue())\n",
    "            writer.close()\n",
    "            \n",
    "    timestamp = datetime.datetime.now().strftime(\"%y%m%d-%H%M%S\")\n",
    "\n",
    "    #dictionary of pipeline options\n",
    "    opts = {\n",
    "        \"staging_location\": STAGING_FOLDER,\n",
    "        \"temp_location\": \"gs://{}/temp\".format(BUCKET),\n",
    "        \"job_name\": \"{}-{}\".format(job_mame, timestamp),\n",
    "        \"project\": PROJECT,\n",
    "        \"region\": REGION,\n",
    "        \"max_num_workers\": 8,\n",
    "        \"runner\": runner\n",
    "    }\n",
    "\n",
    "    #instantiate PipelineOptions object using options dictionary\n",
    "    options = beam.pipeline.PipelineOptions(flags = [], **opts)\n",
    "    p = beam.Pipeline(options=options)\n",
    "    \n",
    "    (p | 'Read dataset'   >> beam.io.ReadFromText(input_data)\n",
    "       | 'Split data'     >> beam.Map(lambda x: x.split(','))\n",
    "       | 'Resize samples' >> beam.Map(resize)\n",
    "       | 'Save Image'     >> beam.ParDo(WriteImage(beam.io.filesystems))\n",
    "    )\n",
    "    \n",
    "    p.run()"
   ]
  },
  {
   "cell_type": "code",
   "execution_count": 33,
   "metadata": {},
   "outputs": [
    {
     "name": "stderr",
     "output_type": "stream",
     "text": [
      "WARNING:apache_beam.runners.interactive.interactive_environment:Dependencies required for Interactive Beam PCollection visualization are not available, please use: `pip install apache-beam[interactive]` to install necessary dependencies to enable all data visualization features.\n"
     ]
    },
    {
     "data": {
      "application/javascript": [
       "\n",
       "        if (typeof window.interactive_beam_jquery == 'undefined') {\n",
       "          var jqueryScript = document.createElement('script');\n",
       "          jqueryScript.src = 'https://code.jquery.com/jquery-3.4.1.slim.min.js';\n",
       "          jqueryScript.type = 'text/javascript';\n",
       "          jqueryScript.onload = function() {\n",
       "            var datatableScript = document.createElement('script');\n",
       "            datatableScript.src = 'https://cdn.datatables.net/1.10.20/js/jquery.dataTables.min.js';\n",
       "            datatableScript.type = 'text/javascript';\n",
       "            datatableScript.onload = function() {\n",
       "              window.interactive_beam_jquery = jQuery.noConflict(true);\n",
       "              window.interactive_beam_jquery(document).ready(function($){\n",
       "                \n",
       "              });\n",
       "            }\n",
       "            document.head.appendChild(datatableScript);\n",
       "          };\n",
       "          document.head.appendChild(jqueryScript);\n",
       "        } else {\n",
       "          window.interactive_beam_jquery(document).ready(function($){\n",
       "            \n",
       "          });\n",
       "        }"
      ]
     },
     "metadata": {},
     "output_type": "display_data"
    },
    {
     "data": {
      "application/javascript": [
       "\n",
       "        var import_html = () => {\n",
       "          ['https://raw.githubusercontent.com/PAIR-code/facets/1.0.0/facets-dist/facets-jupyter.html'].forEach(href => {\n",
       "            var link = document.createElement('link');\n",
       "            link.rel = 'import'\n",
       "            link.href = href;\n",
       "            document.head.appendChild(link);\n",
       "          });\n",
       "        }\n",
       "        if ('import' in document.createElement('link')) {\n",
       "          import_html();\n",
       "        } else {\n",
       "          var webcomponentScript = document.createElement('script');\n",
       "          webcomponentScript.src = 'https://cdnjs.cloudflare.com/ajax/libs/webcomponentsjs/1.3.3/webcomponents-lite.js';\n",
       "          webcomponentScript.type = 'text/javascript';\n",
       "          webcomponentScript.onload = function(){\n",
       "            import_html();\n",
       "          };\n",
       "          document.head.appendChild(webcomponentScript);\n",
       "        }"
      ]
     },
     "metadata": {},
     "output_type": "display_data"
    }
   ],
   "source": [
    "resize_samples(\n",
    "    '{}/images.csv'.format(LOCAL_STAGING_FOLDER),\n",
    "    STAGING_FOLDER,\n",
    "    save_format='jpeg',\n",
    "    target_size=(IMAGE_SIZE, IMAGE_SIZE)\n",
    ")"
   ]
  },
  {
   "cell_type": "markdown",
   "metadata": {},
   "source": [
    "---"
   ]
  },
  {
   "cell_type": "markdown",
   "metadata": {},
   "source": [
    "## Split the dataset in three different ones:\n",
    "* training\n",
    "* eval\n",
    "* testing\n",
    "\n",
    "For that it's needed to dispose to the labels:"
   ]
  },
  {
   "cell_type": "code",
   "execution_count": 15,
   "metadata": {},
   "outputs": [
    {
     "data": {
      "text/html": [
       "<div>\n",
       "<style scoped>\n",
       "    .dataframe tbody tr th:only-of-type {\n",
       "        vertical-align: middle;\n",
       "    }\n",
       "\n",
       "    .dataframe tbody tr th {\n",
       "        vertical-align: top;\n",
       "    }\n",
       "\n",
       "    .dataframe thead th {\n",
       "        text-align: right;\n",
       "    }\n",
       "</style>\n",
       "<table border=\"1\" class=\"dataframe\">\n",
       "  <thead>\n",
       "    <tr style=\"text-align: right;\">\n",
       "      <th></th>\n",
       "      <th>image</th>\n",
       "      <th>label</th>\n",
       "    </tr>\n",
       "  </thead>\n",
       "  <tbody>\n",
       "    <tr>\n",
       "      <th>93</th>\n",
       "      <td>gs://ex-vivo-confocal/staging/STUDY_2021/HE/YE...</td>\n",
       "      <td>yes</td>\n",
       "    </tr>\n",
       "    <tr>\n",
       "      <th>308</th>\n",
       "      <td>gs://ex-vivo-confocal/staging/STUDY_2021/HE/NO...</td>\n",
       "      <td>no</td>\n",
       "    </tr>\n",
       "    <tr>\n",
       "      <th>105</th>\n",
       "      <td>gs://ex-vivo-confocal/staging/STUDY_2021/HE/YE...</td>\n",
       "      <td>yes</td>\n",
       "    </tr>\n",
       "    <tr>\n",
       "      <th>196</th>\n",
       "      <td>gs://ex-vivo-confocal/staging/STUDY_2021/HE/NO...</td>\n",
       "      <td>no</td>\n",
       "    </tr>\n",
       "    <tr>\n",
       "      <th>253</th>\n",
       "      <td>gs://ex-vivo-confocal/staging/STUDY_2021/HE/NO...</td>\n",
       "      <td>no</td>\n",
       "    </tr>\n",
       "  </tbody>\n",
       "</table>\n",
       "</div>"
      ],
      "text/plain": [
       "                                                 image label\n",
       "93   gs://ex-vivo-confocal/staging/STUDY_2021/HE/YE...   yes\n",
       "308  gs://ex-vivo-confocal/staging/STUDY_2021/HE/NO...    no\n",
       "105  gs://ex-vivo-confocal/staging/STUDY_2021/HE/YE...   yes\n",
       "196  gs://ex-vivo-confocal/staging/STUDY_2021/HE/NO...    no\n",
       "253  gs://ex-vivo-confocal/staging/STUDY_2021/HE/NO...    no"
      ]
     },
     "execution_count": 15,
     "metadata": {},
     "output_type": "execute_result"
    }
   ],
   "source": [
    "yes_resized = !gsutil ls gs://ex-vivo-confocal/staging/STUDY_2021/HE/YES/*.jpeg\n",
    "no_resized = !gsutil ls gs://ex-vivo-confocal/staging/STUDY_2021/HE/NO/*.jpeg\n",
    "    \n",
    "df = createDataFrame(yes_resized, no_resized)\n",
    "df.sample(5)"
   ]
  },
  {
   "cell_type": "code",
   "execution_count": 16,
   "metadata": {},
   "outputs": [],
   "source": [
    "import numpy as np\n",
    "\n",
    "def split(df, train_percentage=0.8, eval_percentage=0.1):\n",
    "    def split_train_test(df, train_percentage=0.8):\n",
    "        msk = np.random.rand(len(df)) < train_percentage\n",
    "        train = df[msk]\n",
    "        test = df[~msk]\n",
    "        return train, test\n",
    "\n",
    "    def split_train_eval_test(df, train_percentage=0.8, eval_percentage=0.1):\n",
    "        eval_test_percentage = eval_percentage/(1 - train_percentage)\n",
    "        train, eval_test = split_train_test(df, train_percentage)\n",
    "        validate, test = split_train_test(eval_test, eval_test_percentage)\n",
    "        return train, validate, test\n",
    "    \n",
    "    # Split the datasource by label and then by test, eval and test\n",
    "    classes = [\n",
    "        split_train_eval_test(x, train_percentage, eval_percentage)\n",
    "        for _, x in df.groupby(['label'])\n",
    "    ]\n",
    "    classes = list(map(list, zip(*classes)))\n",
    "    \n",
    "    return [pd.concat(x) for x in classes]"
   ]
  },
  {
   "cell_type": "code",
   "execution_count": 17,
   "metadata": {},
   "outputs": [
    {
     "name": "stdout",
     "output_type": "stream",
     "text": [
      "Records in the dataframe: 516\n",
      "Number of samples in the training set: 432\n",
      "Number of samples in the evaluation set: 47\n",
      "Number of samples in the testing set: 37\n",
      "Number of samples in the three sets: 516\n"
     ]
    }
   ],
   "source": [
    "train_df, eval_df, test_df = split(df)\n",
    "\n",
    "print(\"Records in the dataframe:\", len(df))\n",
    "print(\"Number of samples in the training set:\", len(train_df))\n",
    "print(\"Number of samples in the evaluation set:\", len(eval_df))\n",
    "print(\"Number of samples in the testing set:\", len(test_df))\n",
    "print(\"Number of samples in the three sets:\",\n",
    "      len(train_df) + len(eval_df) + len(test_df))"
   ]
  },
  {
   "cell_type": "code",
   "execution_count": 18,
   "metadata": {},
   "outputs": [],
   "source": [
    "train_df['stage'] = 'train'\n",
    "eval_df['stage'] = 'eval'\n",
    "test_df['stage'] = 'test'"
   ]
  },
  {
   "cell_type": "code",
   "execution_count": 19,
   "metadata": {},
   "outputs": [
    {
     "data": {
      "text/html": [
       "<div>\n",
       "<style scoped>\n",
       "    .dataframe tbody tr th:only-of-type {\n",
       "        vertical-align: middle;\n",
       "    }\n",
       "\n",
       "    .dataframe tbody tr th {\n",
       "        vertical-align: top;\n",
       "    }\n",
       "\n",
       "    .dataframe thead th {\n",
       "        text-align: right;\n",
       "    }\n",
       "</style>\n",
       "<table border=\"1\" class=\"dataframe\">\n",
       "  <thead>\n",
       "    <tr style=\"text-align: right;\">\n",
       "      <th></th>\n",
       "      <th>image</th>\n",
       "      <th>label</th>\n",
       "      <th>stage</th>\n",
       "    </tr>\n",
       "  </thead>\n",
       "  <tbody>\n",
       "    <tr>\n",
       "      <th>33</th>\n",
       "      <td>gs://ex-vivo-confocal/staging/STUDY_2021/HE/NO...</td>\n",
       "      <td>no</td>\n",
       "      <td>train</td>\n",
       "    </tr>\n",
       "    <tr>\n",
       "      <th>278</th>\n",
       "      <td>gs://ex-vivo-confocal/staging/STUDY_2021/HE/NO...</td>\n",
       "      <td>no</td>\n",
       "      <td>train</td>\n",
       "    </tr>\n",
       "    <tr>\n",
       "      <th>371</th>\n",
       "      <td>gs://ex-vivo-confocal/staging/STUDY_2021/HE/YE...</td>\n",
       "      <td>yes</td>\n",
       "      <td>train</td>\n",
       "    </tr>\n",
       "    <tr>\n",
       "      <th>5</th>\n",
       "      <td>gs://ex-vivo-confocal/staging/STUDY_2021/HE/NO...</td>\n",
       "      <td>no</td>\n",
       "      <td>train</td>\n",
       "    </tr>\n",
       "    <tr>\n",
       "      <th>477</th>\n",
       "      <td>gs://ex-vivo-confocal/staging/STUDY_2021/HE/YE...</td>\n",
       "      <td>yes</td>\n",
       "      <td>eval</td>\n",
       "    </tr>\n",
       "  </tbody>\n",
       "</table>\n",
       "</div>"
      ],
      "text/plain": [
       "                                                 image label  stage\n",
       "33   gs://ex-vivo-confocal/staging/STUDY_2021/HE/NO...    no  train\n",
       "278  gs://ex-vivo-confocal/staging/STUDY_2021/HE/NO...    no  train\n",
       "371  gs://ex-vivo-confocal/staging/STUDY_2021/HE/YE...   yes  train\n",
       "5    gs://ex-vivo-confocal/staging/STUDY_2021/HE/NO...    no  train\n",
       "477  gs://ex-vivo-confocal/staging/STUDY_2021/HE/YE...   yes   eval"
      ]
     },
     "execution_count": 19,
     "metadata": {},
     "output_type": "execute_result"
    }
   ],
   "source": [
    "all_df = pd.concat([train_df, eval_df, test_df], ignore_index=True)\n",
    "all_df.sample(5)"
   ]
  },
  {
   "cell_type": "code",
   "execution_count": 20,
   "metadata": {},
   "outputs": [
    {
     "data": {
      "image/png": "[encoded data removed]",
      "text/plain": [
       "<Figure size 1080x1080 with 3 Axes>"
      ]
     },
     "metadata": {},
     "output_type": "display_data"
    }
   ],
   "source": [
    "import matplotlib.pyplot as plt\n",
    "\n",
    "all_df.groupby(['label', 'stage'])['label'].count().unstack('stage').plot(\n",
    "    kind='pie',\n",
    "    figsize=(15, 15),\n",
    "    startangle=90,\n",
    "    subplots=True,\n",
    "    autopct='%1.1f%%',\n",
    "    legend=False,\n",
    "    explode=(0, 0.05),\n",
    "    fontsize=12\n",
    ")\n",
    "\n",
    "plt.show()"
   ]
  },
  {
   "cell_type": "code",
   "execution_count": 22,
   "metadata": {},
   "outputs": [],
   "source": [
    "def copy_batch(df):\n",
    "    batch = [\n",
    "        (src, src.replace('staging/STUDY_2021/HE', 'processed/STUDY_2021/HE/resized/{}'.format(stage)))\n",
    "        for src, label, stage in df.values\n",
    "    ]\n",
    "    beam.io.gcp.gcsio.GcsIO().copy_batch(batch)\n",
    "\n",
    "copy_batch(all_df)"
   ]
  },
  {
   "cell_type": "markdown",
   "metadata": {},
   "source": [
    "---"
   ]
  },
  {
   "cell_type": "markdown",
   "metadata": {},
   "source": [
    "### Data Augmentation"
   ]
  },
  {
   "cell_type": "code",
   "execution_count": 23,
   "metadata": {},
   "outputs": [
    {
     "name": "stdout",
     "output_type": "stream",
     "text": [
      "Number of YES samples: 144\n",
      "Number of NO samples: 288\n"
     ]
    }
   ],
   "source": [
    "# training\n",
    "yes_samples = !gsutil ls gs://ex-vivo-confocal/processed/STUDY_2021/HE/resized/train/YES/*.*\n",
    "no_samples = !gsutil ls gs://ex-vivo-confocal/processed/STUDY_2021/HE/resized/train/NO/*.*\n",
    "    \n",
    "print('Number of YES samples:', len(yes_samples))\n",
    "print('Number of NO samples:', len(no_samples))"
   ]
  },
  {
   "cell_type": "code",
   "execution_count": 24,
   "metadata": {},
   "outputs": [],
   "source": [
    "import math\n",
    "\n",
    "def calculate_num_samples(df, num_copies):\n",
    "    num_yes = len(df[df['label'] == 'yes'])\n",
    "    num_no = len(df[df['label'] == 'no'])\n",
    "    yes_needed = math.ceil((num_copies - num_yes) / num_yes)\n",
    "    no_needed = math.ceil((num_copies - num_no) / num_no)\n",
    "    df['needed'] = df['label'].apply(\n",
    "        lambda x: \\\n",
    "            yes_needed if x == 'yes' else no_needed\n",
    "    )\n",
    "    return df"
   ]
  },
  {
   "cell_type": "code",
   "execution_count": 25,
   "metadata": {},
   "outputs": [
    {
     "name": "stdout",
     "output_type": "stream",
     "text": [
      "Dataframe saved into staging/he/augmented-train.csv\n",
      "Dataframe saved into staging/he/augmented-eval.csv\n",
      "Dataframe saved into staging/he/augmented-test.csv\n"
     ]
    }
   ],
   "source": [
    "# training\n",
    "num_copies = 10000\n",
    "yes_samples = !gsutil ls gs://ex-vivo-confocal/processed/STUDY_2021/HE/resized/train/YES/*.*\n",
    "no_samples = !gsutil ls gs://ex-vivo-confocal/processed/STUDY_2021/HE/resized/train/NO/*.*\n",
    "train_df = calculate_num_samples(\n",
    "    createDataFrame(yes_samples, no_samples),\n",
    "    num_copies\n",
    ")\n",
    "path = '{}/augmented-train.csv'.format(LOCAL_STAGING_FOLDER)\n",
    "save_dataset(train_df[['label', 'image', 'needed']], path, header=False)\n",
    "\n",
    "# validation\n",
    "num_copies = 2000\n",
    "yes_samples = !gsutil ls gs://ex-vivo-confocal/processed/STUDY_2021/HE/resized/eval/YES/*.*\n",
    "no_samples = !gsutil ls gs://ex-vivo-confocal/processed/STUDY_2021/HE/resized/eval/NO/*.*\n",
    "eval_df = calculate_num_samples(\n",
    "    createDataFrame(yes_samples, no_samples),\n",
    "    num_copies\n",
    ")\n",
    "path = '{}/augmented-eval.csv'.format(LOCAL_STAGING_FOLDER)\n",
    "save_dataset(eval_df[['label', 'image', 'needed']], path, header=False)\n",
    "\n",
    "# testing\n",
    "num_copies = 2000\n",
    "yes_samples = !gsutil ls gs://ex-vivo-confocal/processed/STUDY_2021/HE/resized/test/YES/*.*\n",
    "no_samples = !gsutil ls gs://ex-vivo-confocal/processed/STUDY_2021/HE/resized/test/NO/*.*\n",
    "test_df = calculate_num_samples(\n",
    "    createDataFrame(yes_samples, no_samples),\n",
    "    num_copies\n",
    ")\n",
    "path = '{}/augmented-test.csv'.format(LOCAL_STAGING_FOLDER)\n",
    "save_dataset(test_df[['label', 'image', 'needed']], path, header=False)"
   ]
  },
  {
   "cell_type": "code",
   "execution_count": 26,
   "metadata": {},
   "outputs": [],
   "source": [
    "import apache_beam as beam\n",
    "\n",
    "def synthesise_samples(input_data, output_folder,\n",
    "                       save_format='jpeg',\n",
    "                       target_size=(256, 256),\n",
    "                       job_mame='synthesise_samples',\n",
    "                       runner='DirectRunner'):\n",
    "    \"\"\"\n",
    "    Create an Apache Beam pipeline to create synthetic copies of pitcture appliying some transformations.\n",
    "    \n",
    "    Arguments:\n",
    "    runner -- two possible values are accepted:\n",
    "        DirectRunner -- executes the pipeline in the same machine that is running this method. Defaul.\n",
    "        DataflowRunner -- executes the pipeline on GCP (Google Cloud Platform) using the Dataflow service.\n",
    "    input_data -- path to a CSV file with the following structure:\n",
    "        label,path_to_image_file,path_to_copy_file\n",
    "    output -- path to the output folder\n",
    "    \"\"\"\n",
    "    # Dataflow needs the imports here\n",
    "    import os, datetime, random, string\n",
    "    import numpy as np\n",
    "    \n",
    "    from PIL import Image\n",
    "    from io import BytesIO\n",
    "    from apache_beam.io.gcp import gcsio\n",
    "    from skimage.transform import resize\n",
    "    from keras.preprocessing.image import ImageDataGenerator\n",
    "    \n",
    "    def load_img(path):\n",
    "        if path.startswith('gs://'):\n",
    "            #print(path)\n",
    "            img = Image.open(gcsio.GcsIO().open(path))\n",
    "        else:\n",
    "            img = Image.open(path)\n",
    "        return np.asarray(img)\n",
    "        \n",
    "    def transform(element):\n",
    "        label, path, needed = element\n",
    "        hight, width = target_size\n",
    "        \n",
    "        img = load_img(path)\n",
    "        img = resize(img, (hight, width), anti_aliasing=False)\n",
    "        img = np.expand_dims(img, 0)\n",
    "        save_to_dir = os.path.join(\n",
    "                output_folder, label.upper().replace(' ', '_'))\n",
    "        \n",
    "        datagen = ImageDataGenerator(\n",
    "            rotation_range=40,\n",
    "            zoom_range=0.2,\n",
    "            horizontal_flip=True,\n",
    "            vertical_flip=True)\n",
    "        \n",
    "        gen = datagen.flow(img, batch_size=1)\n",
    "\n",
    "        copies = [ gen.next()[0] for _ in range(int(needed)) ]\n",
    "        copies.append(img[0])\n",
    "        return (save_to_dir, copies)\n",
    "            \n",
    "    class WriteImage(beam.DoFn):\n",
    "        def __init__(self, filesystems):\n",
    "            self.filesystems = filesystems\n",
    "            \n",
    "        def process(self, image_tuple):\n",
    "            directory, copies = image_tuple\n",
    "            for img_array in copies:\n",
    "                filename = ''.join(random.choices(string.ascii_letters + string.digits, k=16))\n",
    "                filename = '{}.{}'.format(filename, save_format)\n",
    "                path = os.path.join(directory, filename)\n",
    "                file = BytesIO()\n",
    "                if save_format == 'jpeg':\n",
    "                    img = Image.fromarray((img_array * 255).astype(np.uint8)).convert('RGB')\n",
    "                else:\n",
    "                    img = Image.fromarray((img_array * 255).astype(np.uint8))\n",
    "                img.save(file, format=save_format)\n",
    "\n",
    "                if not os.path.isdir(directory):\n",
    "                    self.filesystems.FileSystems.mkdirs(directory)\n",
    "\n",
    "                writer = self.filesystems.FileSystems.create(path)\n",
    "                writer.write(file.getvalue())\n",
    "                writer.close()\n",
    "            \n",
    "    timestamp = datetime.datetime.now().strftime(\"%y%m%d-%H%M%S\")\n",
    "\n",
    "    #dictionary of pipeline options\n",
    "    opts = {\n",
    "        \"staging_location\": STAGING_FOLDER,\n",
    "        \"temp_location\": \"gs://{}/temp\".format(BUCKET),\n",
    "        \"job_name\": \"{}-{}\".format(job_mame, timestamp),\n",
    "        \"project\": PROJECT,\n",
    "        \"region\": REGION,\n",
    "        \"max_num_workers\": 8,\n",
    "        \"runner\": runner\n",
    "    }\n",
    "\n",
    "    #instantiate PipelineOptions object using options dictionary\n",
    "    options = beam.pipeline.PipelineOptions(flags = [], **opts)\n",
    "    p = beam.Pipeline(options=options)\n",
    "    \n",
    "    (p | 'Read augmented dataset' >> beam.io.ReadFromText(input_data)\n",
    "       | 'Split augmented data'   >> beam.Map(lambda x: x.split(','))\n",
    "       | 'Synthesise samples'     >> beam.Map(transform)\n",
    "       | \"Save Image\"             >> beam.ParDo(WriteImage(beam.io.filesystems))\n",
    "    )\n",
    "    \n",
    "    p.run()"
   ]
  },
  {
   "cell_type": "code",
   "execution_count": 14,
   "metadata": {},
   "outputs": [
    {
     "name": "stderr",
     "output_type": "stream",
     "text": [
      "Using TensorFlow backend.\n",
      "WARNING:apache_beam.runners.interactive.interactive_environment:Dependencies required for Interactive Beam PCollection visualization are not available, please use: `pip install apache-beam[interactive]` to install necessary dependencies to enable all data visualization features.\n"
     ]
    },
    {
     "data": {
      "application/javascript": [
       "\n",
       "        if (typeof window.interactive_beam_jquery == 'undefined') {\n",
       "          var jqueryScript = document.createElement('script');\n",
       "          jqueryScript.src = 'https://code.jquery.com/jquery-3.4.1.slim.min.js';\n",
       "          jqueryScript.type = 'text/javascript';\n",
       "          jqueryScript.onload = function() {\n",
       "            var datatableScript = document.createElement('script');\n",
       "            datatableScript.src = 'https://cdn.datatables.net/1.10.20/js/jquery.dataTables.min.js';\n",
       "            datatableScript.type = 'text/javascript';\n",
       "            datatableScript.onload = function() {\n",
       "              window.interactive_beam_jquery = jQuery.noConflict(true);\n",
       "              window.interactive_beam_jquery(document).ready(function($){\n",
       "                \n",
       "              });\n",
       "            }\n",
       "            document.head.appendChild(datatableScript);\n",
       "          };\n",
       "          document.head.appendChild(jqueryScript);\n",
       "        } else {\n",
       "          window.interactive_beam_jquery(document).ready(function($){\n",
       "            \n",
       "          });\n",
       "        }"
      ]
     },
     "metadata": {},
     "output_type": "display_data"
    },
    {
     "data": {
      "application/javascript": [
       "\n",
       "        var import_html = () => {\n",
       "          ['https://raw.githubusercontent.com/PAIR-code/facets/1.0.0/facets-dist/facets-jupyter.html'].forEach(href => {\n",
       "            var link = document.createElement('link');\n",
       "            link.rel = 'import'\n",
       "            link.href = href;\n",
       "            document.head.appendChild(link);\n",
       "          });\n",
       "        }\n",
       "        if ('import' in document.createElement('link')) {\n",
       "          import_html();\n",
       "        } else {\n",
       "          var webcomponentScript = document.createElement('script');\n",
       "          webcomponentScript.src = 'https://cdnjs.cloudflare.com/ajax/libs/webcomponentsjs/1.3.3/webcomponents-lite.js';\n",
       "          webcomponentScript.type = 'text/javascript';\n",
       "          webcomponentScript.onload = function(){\n",
       "            import_html();\n",
       "          };\n",
       "          document.head.appendChild(webcomponentScript);\n",
       "        }"
      ]
     },
     "metadata": {},
     "output_type": "display_data"
    },
    {
     "name": "stdout",
     "output_type": "stream",
     "text": [
      "Dataset train synthesised\n",
      "Dataset eval synthesised\n",
      "Dataset test synthesised\n"
     ]
    }
   ],
   "source": [
    "for stage in ['train', 'eval', 'test']:\n",
    "    synthesise_samples(\n",
    "        '{}/augmented-{}.csv'.format(LOCAL_STAGING_FOLDER, stage),\n",
    "        'gs://ex-vivo-confocal/processed/STUDY_2021/HE/augmented/{}'.format(stage),\n",
    "        save_format='jpeg',\n",
    "        target_size=(IMAGE_SIZE, IMAGE_SIZE)\n",
    "    )\n",
    "    print('Dataset {} synthesised'.format(stage))"
   ]
  },
  {
   "cell_type": "markdown",
   "metadata": {},
   "source": [
    "Download"
   ]
  },
  {
   "cell_type": "code",
   "execution_count": null,
   "metadata": {},
   "outputs": [],
   "source": [
    "%%bash\n",
    "\n",
    "mkdir -p data/2021_STUDY/HE\n",
    "gsutil -m cp -r gs://ex-vivo-confocal/processed/STUDY_2021/HE/augmented/* data/2021_STUDY/HE"
   ]
  },
  {
   "cell_type": "markdown",
   "metadata": {},
   "source": [
    "---"
   ]
  }
 ],
 "metadata": {
  "kernelspec": {
   "display_name": "Python 3",
   "language": "python",
   "name": "python3"
  },
  "language_info": {
   "codemirror_mode": {
    "name": "ipython",
    "version": 3
   },
   "file_extension": ".py",
   "mimetype": "text/x-python",
   "name": "python",
   "nbconvert_exporter": "python",
   "pygments_lexer": "ipython3",
   "version": "3.8.6"
  }
 },
 "nbformat": 4,
 "nbformat_minor": 4
}
